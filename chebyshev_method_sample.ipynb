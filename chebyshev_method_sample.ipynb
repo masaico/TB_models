{
 "cells": [
  {
   "cell_type": "code",
   "execution_count": 1,
   "metadata": {},
   "outputs": [],
   "source": [
    "import numpy as np\n",
    "import numpy.linalg as la\n",
    "import scipy.sparse as sp\n",
    "import scipy.sparse.linalg as spla\n",
    "\n",
    "import sys\n",
    "import os\n",
    "import os.path as path\n",
    "import time\n",
    "from tqdm import tqdm\n",
    "from IPython.display import display, Video\n",
    "\n",
    "import matplotlib.pyplot as plt\n",
    "from mpl_toolkits.mplot3d import Axes3D\n",
    "import matplotlib.animation as animation\n",
    "import seaborn as sns\n",
    "parameters = {\n",
    "    'font.family': 'Times New Roman',\n",
    "    'mathtext.fontset': 'stix',\n",
    "    'mathtext.default': 'it',\n",
    "    'axes.labelsize': 26,\n",
    "    'axes.titlesize': 26,\n",
    "    'xtick.labelsize': 22,\n",
    "    'ytick.labelsize': 22\n",
    "}\n",
    "plt.rcParams.update(parameters)\n",
    "\n",
    "# original library\n",
    "import tbmodels as tb\n",
    "from chebyshev_method import Chebyshev, gaussian, plane_wave"
   ]
  },
  {
   "cell_type": "markdown",
   "metadata": {},
   "source": [
    "## Chebyshev expantion method\n",
    "\n",
    "$$\n",
    "\\begin{align}\n",
    "    \\psi(t+\\Delta t) \\simeq e^{-ib\\Delta t}\\sum_{k}a_k(a\\Delta t)T_k(-i\\tilde{H})\\psi(t). \\tag{1}\n",
    "\\end{align}\n",
    "$$\n",
    "\n",
    "The coefficient of expansion $a_k$ are\n",
    "\n",
    "$$\n",
    "\\begin{align}\n",
    "    a_k(x) = \\left\\{\n",
    "        \\begin{array}{cc}\n",
    "            J_0(x) & k=0\\\\\n",
    "            2J_k(x) & k>0\\\\\n",
    "        \\end{array}\n",
    "        \\right., \\tag{2}\n",
    "\\end{align}\n",
    "$$\n",
    "\n",
    "where the $J_k(x)$ are Bessel functions of the first kind.  \n",
    "The $T_k$ represent Chebyshev polynomials.\n",
    "\n",
    "$$\n",
    "\\begin{align}\n",
    "    T_0(-i\\tilde{H}) &= I,\\\\[6pt]\n",
    "    T_1(-i\\tilde{H}) &= -i\\tilde{H} \\tag{3},\\\\[6pt]\n",
    "    T_k(-i\\tilde{H}) &= -2i\\tilde{H}T_{k-1}(-i\\tilde{H}) + T_{k-2}(-i\\tilde{H}).\n",
    "\\end{align}\n",
    "$$\n",
    "\n",
    "Since $T_k(x)$ is defined by $x\\in[-1,1]$, we change the scale of the Hamiltonian.\n",
    "\n",
    "$$\n",
    "\\begin{align}\n",
    "    \\tilde{H} = \\frac{H-bI}{a} \\tag{4},\n",
    "\\end{align}\n",
    "$$\n",
    "\n",
    "where $a$ and $b$ are\n",
    "\n",
    "$$\n",
    "\\begin{align}\n",
    "    a &= \\frac{E_{\\mathrm{max}} - E_{\\mathrm{min}}}{2} + \\epsilon,\\\\[8pt]\n",
    "    b &= \\frac{E_{\\mathrm{max}} + E_{\\mathrm{min}}}{2}. \\tag{5}\n",
    "\\end{align}\n",
    "$$"
   ]
  },
  {
   "cell_type": "code",
   "execution_count": 2,
   "metadata": {},
   "outputs": [
    {
     "name": "stdout",
     "output_type": "stream",
     "text": [
      "expansion order k = 11\n"
     ]
    }
   ],
   "source": [
    "shape = 2048\n",
    "x = np.arange(shape)\n",
    "k0 = 2**-2\n",
    "sigma = 50\n",
    "x0 = shape*0.25\n",
    "dt = 2.\n",
    "Nt = 1024\n",
    "H = tb.get_tight_binding_Hamiltonian(shape)\n",
    "Psi = np.zeros((Nt,shape), dtype=np.complex128)\n",
    "Psi[0] = gaussian(x, k0, x0, sigma)\n",
    "ce = Chebyshev(H, dt, H_scale=2.)\n",
    "\n",
    "for i in range(1,Nt):\n",
    "    Psi[i] = ce.apply_U(Psi[i-1])\n",
    "    if i%10 == 0:\n",
    "        Psi[i] /= la.norm(Psi[i])\n",
    "\n",
    "Psi_real = np.real(Psi)"
   ]
  },
  {
   "cell_type": "code",
   "execution_count": 3,
   "metadata": {},
   "outputs": [
    {
     "data": {
      "text/html": [
       "<video src=\"movies/chebyshev1d_k0=0.25.mp4\" controls  >\n",
       "      Your browser does not support the <code>video</code> element.\n",
       "    </video>"
      ],
      "text/plain": [
       "<IPython.core.display.Video object>"
      ]
     },
     "execution_count": 3,
     "metadata": {},
     "output_type": "execute_result"
    },
    {
     "data": {
      "image/png": "[encoded data removed]",
      "text/plain": [
       "<Figure size 432x288 with 1 Axes>"
      ]
     },
     "metadata": {
      "needs_background": "light"
     },
     "output_type": "display_data"
    }
   ],
   "source": [
    "fig = plt.figure()\n",
    "ax = fig.add_subplot(111)\n",
    "ax.plot(x,np.zeros_like(x), '--', color='black',markersize=10, linewidth =1, aa=True)\n",
    "lines, = ax.plot(x,Psi_real[0], color='blue', linewidth =0.3)\n",
    "\n",
    "anim = [] #アニメーション用に描くパラパラ図のデータを格納するためのリスト\n",
    "\n",
    "def animate(i):\n",
    "    lines.set_data(x,Psi_real[i])\n",
    "\n",
    "anim = animation.FuncAnimation(fig, animate, frames=range(1,Nt,4)) # アニメーション作成  \n",
    "\n",
    "ax.set_xlabel(r'$x$')\n",
    "ax.set_ylabel(r'$\\mathrm{Re}[\\psi(x)]$')\n",
    "\n",
    "anim.save('movies/chebyshev1d_k0={:.3g}.mp4'.format(k0), writer='ffmpeg', fps = int(Nt/32))\n",
    "Video('movies/chebyshev1d_k0={:.3g}.mp4'.format(k0))"
   ]
  },
  {
   "cell_type": "markdown",
   "metadata": {},
   "source": [
    "## Direct Diagonalization"
   ]
  },
  {
   "cell_type": "code",
   "execution_count": 4,
   "metadata": {},
   "outputs": [
    {
     "name": "stderr",
     "output_type": "stream",
     "text": [
      "100%|██████████| 1023/1023 [00:18<00:00, 55.30it/s]\n"
     ]
    }
   ],
   "source": [
    "shape = 2048\n",
    "x = np.arange(shape)\n",
    "k0 = 2**-2\n",
    "sigma = 50\n",
    "x0 = shape*0.25\n",
    "dt = 2.\n",
    "Nt = 1024\n",
    "H = tb.get_tight_binding_Hamiltonian(shape)\n",
    "Psi = np.zeros((Nt,shape), dtype=np.complex128)\n",
    "Psi[0] = gaussian(x, k0, x0, sigma)\n",
    "\n",
    "energy, v = la.eigh(H.toarray())\n",
    "vinv = la.inv(v)\n",
    "coef = np.dot(vinv, Psi[0])\n",
    "\n",
    "t_max = dt*(Nt-1)\n",
    "t = np.linspace(0, t_max, Nt)\n",
    "for i in tqdm(range(1,Nt)):\n",
    "    Psi[i] = np.dot(v, coef*np.exp(-1j*energy*t[i]))\n",
    "Psi_real = np.real(Psi)"
   ]
  },
  {
   "cell_type": "code",
   "execution_count": 5,
   "metadata": {},
   "outputs": [
    {
     "data": {
      "text/html": [
       "<video src=\"movies/diagonalization1d_k0=0.25.mp4\" controls  >\n",
       "      Your browser does not support the <code>video</code> element.\n",
       "    </video>"
      ],
      "text/plain": [
       "<IPython.core.display.Video object>"
      ]
     },
     "execution_count": 5,
     "metadata": {},
     "output_type": "execute_result"
    },
    {
     "data": {
      "image/png": "[encoded data removed]",
      "text/plain": [
       "<Figure size 432x288 with 1 Axes>"
      ]
     },
     "metadata": {
      "needs_background": "light"
     },
     "output_type": "display_data"
    }
   ],
   "source": [
    "fig = plt.figure()\n",
    "ax = fig.add_subplot(111)\n",
    "ax.plot(x,np.zeros_like(x), '--', color='black',markersize=10, linewidth =1, aa=True)\n",
    "lines, = ax.plot(x,Psi_real[0], color='blue', linewidth =0.3)\n",
    "\n",
    "anim = [] #アニメーション用に描くパラパラ図のデータを格納するためのリスト\n",
    "\n",
    "def animate(i):\n",
    "    lines.set_data(x,Psi_real[i])\n",
    "\n",
    "anim = animation.FuncAnimation(fig, animate, frames=range(1,Nt,4)) # アニメーション作成  \n",
    "\n",
    "ax.set_xlabel(r'$x$')\n",
    "ax.set_ylabel(r'$\\mathrm{Re}[\\psi(x)]$')\n",
    "\n",
    "anim.save('movies/diagonalization1d_k0={:.3g}.mp4'.format(k0), writer='ffmpeg', fps = int(Nt/32))\n",
    "Video('movies/diagonalization1d_k0={:.3g}.mp4'.format(k0))"
   ]
  },
  {
   "cell_type": "markdown",
   "metadata": {},
   "source": [
    "## 2D"
   ]
  },
  {
   "cell_type": "markdown",
   "metadata": {},
   "source": [
    "## Ando (S=1/2, Symplectic)\n",
    "\n",
    "![ando](figures/Ando_band.png)"
   ]
  },
  {
   "cell_type": "markdown",
   "metadata": {},
   "source": [
    "### $k_0 = 0$"
   ]
  },
  {
   "cell_type": "code",
   "execution_count": 6,
   "metadata": {},
   "outputs": [
    {
     "name": "stdout",
     "output_type": "stream",
     "text": [
      "maximum eigenenergy = 3.742\n",
      "expansion order k = 8\n"
     ]
    }
   ],
   "source": [
    "t1 = np.sqrt(0.75)\n",
    "t2 = 0.5\n",
    "Lx = 1024\n",
    "L = 16\n",
    "shape = (Lx,L)\n",
    "x, y = map(np.arange, shape)\n",
    "X, Y = np.meshgrid(*[x,y], indexing='ij')\n",
    "kx, ky = map(lambda n: np.linspace(-np.pi,np.pi,n+1)[:-1], shape)\n",
    "KX, KY = np.meshgrid(*[kx,ky], indexing='ij')\n",
    "\n",
    "k0 = 0.\n",
    "sigma = 50\n",
    "x0 = shape[0]*0.5\n",
    "\n",
    "dt = 0.5\n",
    "Nt = 512\n",
    "\n",
    "H = tb.get_Ando_Hamiltonian(shape, t1, t2)\n",
    "Psi = np.zeros((Nt,2*np.prod(shape)), dtype=np.complex128)\n",
    "Psi[0] = np.array([\n",
    "    [gaussian(X, k0, x0, sigma)],\n",
    "    [np.zeros_like(X)]\n",
    "]).ravel()\n",
    "\n",
    "def band_1(kx,ky,t1,t2,a=1.):\n",
    "    return -2*t1 *(np.cos(kx*a) + np.cos(ky*a)) + 2*t2 *np.sqrt(np.sin(kx*a)**2 + np.sin(ky*a)**2)\n",
    "E = band_1(KX,KY,t1,t2)\n",
    "H_scale = np.max(E)\n",
    "print('maximum eigenenergy = {:.4g}'.format(H_scale))\n",
    "ce = Chebyshev(H, dt, H_scale=H_scale)\n",
    "\n",
    "for i in range(1,Nt):\n",
    "    Psi[i] = ce.apply_U(Psi[i-1])\n",
    "    if i%10 == 0:\n",
    "        Psi[i] /= la.norm(Psi[i])\n",
    "\n",
    "Density = np.absolute(Psi)**2"
   ]
  },
  {
   "cell_type": "code",
   "execution_count": 7,
   "metadata": {},
   "outputs": [
    {
     "data": {
      "text/html": [
       "<video src=\"movies/time_develop_Ando_S=0.5_k0=0.mp4\" controls  >\n",
       "      Your browser does not support the <code>video</code> element.\n",
       "    </video>"
      ],
      "text/plain": [
       "<IPython.core.display.Video object>"
      ]
     },
     "execution_count": 7,
     "metadata": {},
     "output_type": "execute_result"
    },
    {
     "data": {
      "image/png": "[encoded data removed]",
      "text/plain": [
       "<Figure size 432x288 with 1 Axes>"
      ]
     },
     "metadata": {
      "needs_background": "light"
     },
     "output_type": "display_data"
    }
   ],
   "source": [
    "fig = plt.figure()\n",
    "ax = fig.add_subplot(111)\n",
    "cax = ax.pcolormesh(X, Y, np.sum(Density[0].reshape(2,*shape),axis=0), shading='auto')\n",
    "\n",
    "def animate(i):\n",
    "    cax.set_array(np.sum(Density[i].reshape(2,*shape),axis=0))\n",
    "\n",
    "anim = animation.FuncAnimation(fig, animate, frames=range(0,Nt,4))\n",
    "\n",
    "ax.set_xlabel(r'$x$')\n",
    "ax.set_ylabel(r'$y$')\n",
    "\n",
    "anim.save('movies/time_develop_Ando_S={:.1g}_k0={:.3g}.mp4'.format(t2,k0), writer='ffmpeg', fps = int(Nt/32))\n",
    "Video('movies/time_develop_Ando_S={:.1g}_k0={:.3g}.mp4'.format(t2,k0))"
   ]
  },
  {
   "cell_type": "markdown",
   "metadata": {},
   "source": [
    "### $k_0 = \\pi/2$"
   ]
  },
  {
   "cell_type": "code",
   "execution_count": 8,
   "metadata": {},
   "outputs": [
    {
     "name": "stdout",
     "output_type": "stream",
     "text": [
      "maximum eigenenergy = 3.742\n",
      "expansion order k = 8\n"
     ]
    }
   ],
   "source": [
    "t1 = np.sqrt(0.75)\n",
    "t2 = 0.5\n",
    "Lx = 1024\n",
    "L = 16\n",
    "shape = (Lx,L)\n",
    "x, y = map(np.arange, shape)\n",
    "X, Y = np.meshgrid(*[x,y], indexing='ij')\n",
    "kx, ky = map(lambda n: np.linspace(-np.pi,np.pi,n+1)[:-1], shape)\n",
    "KX, KY = np.meshgrid(*[kx,ky], indexing='ij')\n",
    "\n",
    "k0 = np.pi*0.5\n",
    "sigma = 50\n",
    "x0 = shape[0]*0.5\n",
    "\n",
    "dt = 0.5\n",
    "Nt = 512\n",
    "\n",
    "H = tb.get_Ando_Hamiltonian(shape, t1, t2)\n",
    "Psi = np.zeros((Nt,2*np.prod(shape)), dtype=np.complex128)\n",
    "Psi[0] = np.array([\n",
    "    [gaussian(X, k0, x0, sigma)],\n",
    "    [np.zeros_like(X)]\n",
    "]).ravel()\n",
    "\n",
    "def band_1(kx,ky,t1,t2,a=1.):\n",
    "    return -2*t1 *(np.cos(kx*a) + np.cos(ky*a)) + 2*t2 *np.sqrt(np.sin(kx*a)**2 + np.sin(ky*a)**2)\n",
    "E = band_1(KX,KY,t1,t2)\n",
    "H_scale = np.max(E)\n",
    "print('maximum eigenenergy = {:.4g}'.format(H_scale))\n",
    "ce = Chebyshev(H, dt, H_scale=H_scale)\n",
    "\n",
    "for i in range(1,Nt):\n",
    "    Psi[i] = ce.apply_U(Psi[i-1])\n",
    "    if i%10 == 0:\n",
    "        Psi[i] /= la.norm(Psi[i])\n",
    "\n",
    "Density = np.absolute(Psi)**2"
   ]
  },
  {
   "cell_type": "code",
   "execution_count": 9,
   "metadata": {},
   "outputs": [
    {
     "data": {
      "text/html": [
       "<video src=\"movies/time_develop_Ando_S=0.5_k0=1.57.mp4\" controls  >\n",
       "      Your browser does not support the <code>video</code> element.\n",
       "    </video>"
      ],
      "text/plain": [
       "<IPython.core.display.Video object>"
      ]
     },
     "execution_count": 9,
     "metadata": {},
     "output_type": "execute_result"
    },
    {
     "data": {
      "image/png": "[encoded data removed]",
      "text/plain": [
       "<Figure size 432x288 with 1 Axes>"
      ]
     },
     "metadata": {
      "needs_background": "light"
     },
     "output_type": "display_data"
    }
   ],
   "source": [
    "fig = plt.figure()\n",
    "ax = fig.add_subplot(111)\n",
    "cax = ax.pcolormesh(X, Y, np.sum(Density[0].reshape(2,*shape),axis=0), shading='auto')\n",
    "\n",
    "def animate(i):\n",
    "    cax.set_array(np.sum(Density[i].reshape(2,*shape),axis=0))\n",
    "\n",
    "anim = animation.FuncAnimation(fig, animate, frames=range(0,Nt,4))\n",
    "\n",
    "ax.set_xlabel(r'$x$')\n",
    "ax.set_ylabel(r'$y$')\n",
    "\n",
    "anim.save('movies/time_develop_Ando_S={:.1g}_k0={:.3g}.mp4'.format(t2,k0), writer='ffmpeg', fps = int(Nt/32))\n",
    "Video('movies/time_develop_Ando_S={:.1g}_k0={:.3g}.mp4'.format(t2,k0))"
   ]
  },
  {
   "cell_type": "markdown",
   "metadata": {},
   "source": [
    "### $k_0 = \\tan^{-1}(t_2/t_1)$"
   ]
  },
  {
   "cell_type": "code",
   "execution_count": 10,
   "metadata": {},
   "outputs": [
    {
     "name": "stdout",
     "output_type": "stream",
     "text": [
      "maximum eigenenergy = 3.742\n",
      "expansion order k = 8\n"
     ]
    }
   ],
   "source": [
    "t1 = np.sqrt(0.75)\n",
    "t2 = 0.5\n",
    "Lx = 1024\n",
    "L = 16\n",
    "shape = (Lx,L)\n",
    "x, y = map(np.arange, shape)\n",
    "X, Y = np.meshgrid(*[x,y], indexing='ij')\n",
    "kx, ky = map(lambda n: np.linspace(-np.pi,np.pi,n+1)[:-1], shape)\n",
    "KX, KY = np.meshgrid(*[kx,ky], indexing='ij')\n",
    "\n",
    "k0 = np.arctan(t2/t1)\n",
    "sigma = 50\n",
    "x0 = shape[0]*0.5\n",
    "\n",
    "dt = 0.5\n",
    "Nt = 512\n",
    "\n",
    "H = tb.get_Ando_Hamiltonian(shape, t1, t2)\n",
    "Psi = np.zeros((Nt,2*np.prod(shape)), dtype=np.complex128)\n",
    "Psi[0] = np.array([\n",
    "    [gaussian(X, k0, x0, sigma)],\n",
    "    [np.zeros_like(X)]\n",
    "]).ravel()\n",
    "\n",
    "def band_1(kx,ky,t1,t2,a=1.):\n",
    "    return -2*t1 *(np.cos(kx*a) + np.cos(ky*a)) + 2*t2 *np.sqrt(np.sin(kx*a)**2 + np.sin(ky*a)**2)\n",
    "E = band_1(KX,KY,t1,t2)\n",
    "H_scale = np.max(E)\n",
    "print('maximum eigenenergy = {:.4g}'.format(H_scale))\n",
    "ce = Chebyshev(H, dt, H_scale=H_scale)\n",
    "\n",
    "for i in range(1,Nt):\n",
    "    Psi[i] = ce.apply_U(Psi[i-1])\n",
    "    if i%10 == 0:\n",
    "        Psi[i] /= la.norm(Psi[i])\n",
    "\n",
    "Density = np.absolute(Psi)**2"
   ]
  },
  {
   "cell_type": "code",
   "execution_count": 11,
   "metadata": {},
   "outputs": [
    {
     "data": {
      "text/html": [
       "<video src=\"movies/time_develop_Ando_S=0.5_k0=0.524.mp4\" controls  >\n",
       "      Your browser does not support the <code>video</code> element.\n",
       "    </video>"
      ],
      "text/plain": [
       "<IPython.core.display.Video object>"
      ]
     },
     "execution_count": 11,
     "metadata": {},
     "output_type": "execute_result"
    },
    {
     "data": {
      "image/png": "[encoded data removed]",
      "text/plain": [
       "<Figure size 432x288 with 1 Axes>"
      ]
     },
     "metadata": {
      "needs_background": "light"
     },
     "output_type": "display_data"
    }
   ],
   "source": [
    "fig = plt.figure()\n",
    "ax = fig.add_subplot(111)\n",
    "cax = ax.pcolormesh(X, Y, np.sum(Density[0].reshape(2,*shape),axis=0), shading='auto')\n",
    "\n",
    "def animate(i):\n",
    "    cax.set_array(np.sum(Density[i].reshape(2,*shape),axis=0))\n",
    "\n",
    "anim = animation.FuncAnimation(fig, animate, frames=range(0,Nt,4))\n",
    "\n",
    "ax.set_xlabel(r'$x$')\n",
    "ax.set_ylabel(r'$y$')\n",
    "\n",
    "anim.save('movies/time_develop_Ando_S={:.1g}_k0={:.3g}.mp4'.format(t2,k0), writer='ffmpeg', fps = int(Nt/32))\n",
    "Video('movies/time_develop_Ando_S={:.1g}_k0={:.3g}.mp4'.format(t2,k0))"
   ]
  },
  {
   "cell_type": "markdown",
   "metadata": {},
   "source": [
    "### $k_0 = \\frac12\\tan^{-1}(t_2/t_1)$"
   ]
  },
  {
   "cell_type": "code",
   "execution_count": 12,
   "metadata": {},
   "outputs": [
    {
     "name": "stdout",
     "output_type": "stream",
     "text": [
      "maximum eigenenergy = 3.742\n",
      "expansion order k = 8\n"
     ]
    }
   ],
   "source": [
    "t1 = np.sqrt(0.75)\n",
    "t2 = 0.5\n",
    "Lx = 1024\n",
    "L = 16\n",
    "shape = (Lx,L)\n",
    "x, y = map(np.arange, shape)\n",
    "X, Y = np.meshgrid(*[x,y], indexing='ij')\n",
    "kx, ky = map(lambda n: np.linspace(-np.pi,np.pi,n+1)[:-1], shape)\n",
    "KX, KY = np.meshgrid(*[kx,ky], indexing='ij')\n",
    "\n",
    "k0 = np.arctan(t2/t1)*0.5\n",
    "sigma = 50\n",
    "x0 = shape[0]*0.5\n",
    "\n",
    "dt = 0.5\n",
    "Nt = 512\n",
    "\n",
    "H = tb.get_Ando_Hamiltonian(shape, t1, t2)\n",
    "Psi = np.zeros((Nt,2*np.prod(shape)), dtype=np.complex128)\n",
    "Psi[0] = np.array([\n",
    "    [gaussian(X, k0, x0, sigma)],\n",
    "    [np.zeros_like(X)]\n",
    "]).ravel()\n",
    "\n",
    "def band_1(kx,ky,t1,t2,a=1.):\n",
    "    return -2*t1 *(np.cos(kx*a) + np.cos(ky*a)) + 2*t2 *np.sqrt(np.sin(kx*a)**2 + np.sin(ky*a)**2)\n",
    "E = band_1(KX,KY,t1,t2)\n",
    "H_scale = np.max(E)\n",
    "print('maximum eigenenergy = {:.4g}'.format(H_scale))\n",
    "ce = Chebyshev(H, dt, H_scale=H_scale)\n",
    "\n",
    "for i in range(1,Nt):\n",
    "    Psi[i] = ce.apply_U(Psi[i-1])\n",
    "    if i%10 == 0:\n",
    "        Psi[i] /= la.norm(Psi[i])\n",
    "\n",
    "Density = np.absolute(Psi)**2"
   ]
  },
  {
   "cell_type": "code",
   "execution_count": 13,
   "metadata": {},
   "outputs": [
    {
     "data": {
      "text/html": [
       "<video src=\"movies/time_develop_Ando_S=0.5_k0=0.262.mp4\" controls  >\n",
       "      Your browser does not support the <code>video</code> element.\n",
       "    </video>"
      ],
      "text/plain": [
       "<IPython.core.display.Video object>"
      ]
     },
     "execution_count": 13,
     "metadata": {},
     "output_type": "execute_result"
    },
    {
     "data": {
      "image/png": "[encoded data removed]",
      "text/plain": [
       "<Figure size 432x288 with 1 Axes>"
      ]
     },
     "metadata": {
      "needs_background": "light"
     },
     "output_type": "display_data"
    }
   ],
   "source": [
    "fig = plt.figure()\n",
    "ax = fig.add_subplot(111)\n",
    "cax = ax.pcolormesh(X, Y, np.sum(Density[0].reshape(2,*shape),axis=0), shading='auto')\n",
    "\n",
    "def animate(i):\n",
    "    cax.set_array(np.sum(Density[i].reshape(2,*shape),axis=0))\n",
    "\n",
    "anim = animation.FuncAnimation(fig, animate, frames=range(0,Nt,4))\n",
    "\n",
    "ax.set_xlabel(r'$x$')\n",
    "ax.set_ylabel(r'$y$')\n",
    "\n",
    "anim.save('movies/time_develop_Ando_S={:.1g}_k0={:.3g}.mp4'.format(t2,k0), writer='ffmpeg', fps = int(Nt/32))\n",
    "Video('movies/time_develop_Ando_S={:.1g}_k0={:.3g}.mp4'.format(t2,k0))"
   ]
  },
  {
   "attachments": {},
   "cell_type": "markdown",
   "metadata": {},
   "source": [
    "## Ando (S=0 (=2D tight-binding), Orthogonal class)"
   ]
  },
  {
   "cell_type": "markdown",
   "metadata": {},
   "source": [
    "### $k0 = \\pi/2$"
   ]
  },
  {
   "cell_type": "code",
   "execution_count": 14,
   "metadata": {},
   "outputs": [
    {
     "name": "stdout",
     "output_type": "stream",
     "text": [
      "maximum eigenenergy = 4\n",
      "expansion order k = 8\n"
     ]
    }
   ],
   "source": [
    "t1 = 1.\n",
    "t2 = 0.\n",
    "Lx = 1024\n",
    "L = 16\n",
    "shape = (Lx,L)\n",
    "x, y = map(np.arange, shape)\n",
    "X, Y = np.meshgrid(*[x,y], indexing='ij')\n",
    "kx, ky = map(lambda n: np.linspace(-np.pi,np.pi,n+1)[:-1], shape)\n",
    "KX, KY = np.meshgrid(*[kx,ky], indexing='ij')\n",
    "\n",
    "k0 = np.pi*0.5\n",
    "sigma = 50\n",
    "x0 = shape[0]*0.5\n",
    "\n",
    "dt = 0.5\n",
    "Nt = 512\n",
    "\n",
    "H = tb.get_Ando_Hamiltonian(shape, t1, t2)\n",
    "Psi = np.zeros((Nt,2*np.prod(shape)), dtype=np.complex128)\n",
    "Psi[0] = np.array([\n",
    "    [gaussian(X, k0, x0, sigma)],\n",
    "    [np.zeros_like(X)]\n",
    "]).ravel()\n",
    "\n",
    "def band_1(kx,ky,t1,t2,a=1.):\n",
    "    return -2*t1 *(np.cos(kx*a) + np.cos(ky*a)) + 2*t2 *np.sqrt(np.sin(kx*a)**2 + np.sin(ky*a)**2)\n",
    "E = band_1(KX,KY,t1,t2)\n",
    "H_scale = np.max(E)\n",
    "print('maximum eigenenergy = {:.4g}'.format(H_scale))\n",
    "ce = Chebyshev(H, dt, H_scale=H_scale)\n",
    "\n",
    "for i in range(1,Nt):\n",
    "    Psi[i] = ce.apply_U(Psi[i-1])\n",
    "    if i%10 == 0:\n",
    "        Psi[i] /= la.norm(Psi[i])\n",
    "\n",
    "Density = np.absolute(Psi)**2"
   ]
  },
  {
   "cell_type": "code",
   "execution_count": 15,
   "metadata": {},
   "outputs": [
    {
     "data": {
      "text/html": [
       "<video src=\"movies/time_develop_Ando_S=0_k0=1.57.mp4\" controls  >\n",
       "      Your browser does not support the <code>video</code> element.\n",
       "    </video>"
      ],
      "text/plain": [
       "<IPython.core.display.Video object>"
      ]
     },
     "execution_count": 15,
     "metadata": {},
     "output_type": "execute_result"
    },
    {
     "data": {
      "image/png": "[encoded data removed]",
      "text/plain": [
       "<Figure size 432x288 with 1 Axes>"
      ]
     },
     "metadata": {
      "needs_background": "light"
     },
     "output_type": "display_data"
    }
   ],
   "source": [
    "fig = plt.figure()\n",
    "ax = fig.add_subplot(111)\n",
    "cax = ax.pcolormesh(X, Y, np.sum(Density[0].reshape(2,*shape),axis=0), shading='auto')\n",
    "\n",
    "def animate(i):\n",
    "    cax.set_array(np.sum(Density[i].reshape(2,*shape),axis=0))\n",
    "\n",
    "anim = animation.FuncAnimation(fig, animate, frames=range(0,Nt,4))\n",
    "\n",
    "ax.set_xlabel(r'$x$')\n",
    "ax.set_ylabel(r'$y$')\n",
    "\n",
    "anim.save('movies/time_develop_Ando_S={:.1g}_k0={:.3g}.mp4'.format(t2,k0), writer='ffmpeg', fps = int(Nt/32))\n",
    "Video('movies/time_develop_Ando_S={:.1g}_k0={:.3g}.mp4'.format(t2,k0))"
   ]
  },
  {
   "cell_type": "markdown",
   "metadata": {},
   "source": [
    "## 3D orthogonal\n",
    "\n",
    "![3dtb](figures/3d_tight_binding_band.png)"
   ]
  },
  {
   "cell_type": "markdown",
   "metadata": {},
   "source": [
    "### $k_0=\\pi/2$"
   ]
  },
  {
   "cell_type": "code",
   "execution_count": 16,
   "metadata": {},
   "outputs": [
    {
     "name": "stdout",
     "output_type": "stream",
     "text": [
      "expansion order k = 10\n"
     ]
    },
    {
     "name": "stderr",
     "output_type": "stream",
     "text": [
      "100%|██████████| 511/511 [00:51<00:00,  9.86it/s]\n"
     ]
    }
   ],
   "source": [
    "Lx = 1024\n",
    "L = 16\n",
    "shape = (Lx,L,L)\n",
    "x, y, z = map(np.arange, shape)\n",
    "X, Y, Z = np.meshgrid(*[x,y,z], indexing='ij')\n",
    "\n",
    "k0 = np.pi*0.5\n",
    "sigma = 50\n",
    "x0 = shape[0]*0.5\n",
    "\n",
    "dt = 0.5\n",
    "Nt = 512\n",
    "\n",
    "H = tb.get_tight_binding_Hamiltonian(shape)\n",
    "Psi = np.zeros((Nt,np.prod(shape)), dtype=np.complex128)\n",
    "Psi[0] = gaussian(X, k0, x0, sigma).ravel()\n",
    "\n",
    "H_scale = 6.\n",
    "ce = Chebyshev(H, dt, H_scale=H_scale)\n",
    "\n",
    "for i in tqdm(range(1,Nt)):\n",
    "    Psi[i] = ce.apply_U(Psi[i-1])\n",
    "    if i%10 == 0:\n",
    "        Psi[i] /= la.norm(Psi[i])\n",
    "\n",
    "Density = np.absolute(Psi)**2"
   ]
  },
  {
   "cell_type": "code",
   "execution_count": 17,
   "metadata": {},
   "outputs": [
    {
     "data": {
      "text/html": [
       "<video src=\"movies/time_develop_Ando_S=0_k0=1.57.mp4\" controls  >\n",
       "      Your browser does not support the <code>video</code> element.\n",
       "    </video>"
      ],
      "text/plain": [
       "<IPython.core.display.Video object>"
      ]
     },
     "execution_count": 17,
     "metadata": {},
     "output_type": "execute_result"
    },
    {
     "data": {
      "image/png": "[encoded data removed]",
      "text/plain": [
       "<Figure size 432x288 with 1 Axes>"
      ]
     },
     "metadata": {
      "needs_background": "light"
     },
     "output_type": "display_data"
    }
   ],
   "source": [
    "XX, YY = np.meshgrid(*[x,y], indexing='ij')\n",
    "\n",
    "fig = plt.figure()\n",
    "ax = fig.add_subplot(111)\n",
    "cax = ax.pcolormesh(XX, YY, Density[0].reshape(*shape)[:,:,0], shading='auto')\n",
    "\n",
    "def animate(i):\n",
    "    cax.set_array(Density[i].reshape(*shape)[:,:,0])\n",
    "\n",
    "anim = animation.FuncAnimation(fig, animate, frames=range(0,Nt,4))\n",
    "\n",
    "ax.set_xlabel(r'$x$')\n",
    "ax.set_ylabel(r'$y$')\n",
    "\n",
    "anim.save('movies/time_develop_Ando_S={:.1g}_k0={:.3g}.mp4'.format(t2,k0), writer='ffmpeg', fps = int(Nt/32))\n",
    "Video('movies/time_develop_Ando_S={:.1g}_k0={:.3g}.mp4'.format(t2,k0))"
   ]
  },
  {
   "attachments": {},
   "cell_type": "markdown",
   "metadata": {},
   "source": [
    "### Bessel function (1st kind)"
   ]
  },
  {
   "cell_type": "code",
   "execution_count": 18,
   "metadata": {},
   "outputs": [
    {
     "data": {
      "image/png": "[encoded data removed]",
      "text/plain": [
       "<Figure size 648x432 with 1 Axes>"
      ]
     },
     "metadata": {
      "needs_background": "light"
     },
     "output_type": "display_data"
    }
   ],
   "source": [
    "from scipy.special import jv\n",
    "\n",
    "x = np.linspace(0,15.5,1000)\n",
    "\n",
    "fig, ax = plt.subplots(figsize=(9,6))\n",
    "linestyles = [\"solid\", \"dashed\", \"dashdot\", \"dotted\"]\n",
    "linewidth = [1.3,1.6,1.6,1.8]\n",
    "for i, (linestyle, w) in enumerate(zip(linestyles, linewidth)):\n",
    "    y = jv(i,x)\n",
    "    ax.plot(x,y, linestyle=linestyle, label='$k={}$'.format(i), linewidth=w)\n",
    "    ax.spines['bottom'].set_position(('data', 0))\n",
    "    ax.spines['left'].set_position(('data', 0))\n",
    "    ax.spines['right'].set_visible(False)\n",
    "    ax.spines['top'].set_visible(False)\n",
    "#ax.set_xlim(-1,None)\n",
    "ax.set_ylim(-0.5,None)\n",
    "ax.set_yticks([-0.5,0,0.5,1])\n",
    "ax.legend(fontsize=20)\n",
    "ax.set_xticks([5,10,15])\n",
    "ax.set_yticks([-0.5,0,0.5,1])\n",
    "ax.set_yticklabels([r\"$-0.5$\", r\"$0$\", r\"$0.5$\", r\"$1$\"])\n",
    "plt.show()"
   ]
  },
  {
   "attachments": {},
   "cell_type": "markdown",
   "metadata": {},
   "source": [
    "### Chebyshev polynomials"
   ]
  },
  {
   "cell_type": "code",
   "execution_count": 19,
   "metadata": {},
   "outputs": [
    {
     "data": {
      "image/png": "[encoded data removed]",
      "text/plain": [
       "<Figure size 648x432 with 1 Axes>"
      ]
     },
     "metadata": {
      "needs_background": "light"
     },
     "output_type": "display_data"
    }
   ],
   "source": [
    "import matplotlib.pyplot as plt\n",
    "from scipy.special import eval_chebyt\n",
    "\n",
    "\n",
    "# x座標データ\n",
    "x = np.linspace(-1., 1., 1000)\n",
    "\n",
    "fig, ax = plt.subplots(figsize=(9,6))\n",
    "linestyles = [\"solid\", \"dashed\", \"dashdot\", \"dotted\"]\n",
    "linewidth = [1.3,1.6,1.6,1.8]\n",
    "for i, (linestyle, w) in enumerate(zip(linestyles, linewidth)):\n",
    "    y = eval_chebyt(i, x)\n",
    "    ax.plot(x,y, linestyle=linestyle, label='$k={}$'.format(i), linewidth=w)\n",
    "    ax.spines['bottom'].set_position(('data', 0))\n",
    "    ax.spines['left'].set_position(('data', 0))\n",
    "    ax.spines['right'].set_visible(False)\n",
    "    ax.spines['top'].set_visible(False)\n",
    "#ax.set_xlim(-1,None)\n",
    "ax.set_ylim(-1.4,None)\n",
    "ax.legend(fontsize=20)\n",
    "ax.set_xticks([-1,-0.5,0,0.5,1])\n",
    "ax.set_yticks([-1,-0.5,0.5,1])\n",
    "ax.set_xticklabels([r\"$-1$\", r\"$-0.5$\", r\"$0$\", r\"$0.5$\", r\"$1$\"])\n",
    "ax.set_yticklabels([r\"$-1$\", r\"$-0.5$\", r\"$0.5$\", r\"$1$\"])\n",
    "plt.show()"
   ]
  },
  {
   "cell_type": "code",
   "execution_count": null,
   "metadata": {},
   "outputs": [],
   "source": []
  }
 ],
 "metadata": {
  "kernelspec": {
   "display_name": "Python 3.9.7 64-bit ('localization': pyenv)",
   "language": "python",
   "name": "python3"
  },
  "language_info": {
   "codemirror_mode": {
    "name": "ipython",
    "version": 3
   },
   "file_extension": ".py",
   "mimetype": "text/x-python",
   "name": "python",
   "nbconvert_exporter": "python",
   "pygments_lexer": "ipython3",
   "version": "3.9.7"
  },
  "orig_nbformat": 4,
  "vscode": {
   "interpreter": {
    "hash": "590b91e4b9eb59ee8553e47789ab7b6106a26a4abe1ef7193a8ece9c0232e5ab"
   }
  }
 },
 "nbformat": 4,
 "nbformat_minor": 2
}
